{
 "cells": [
  {
   "cell_type": "code",
   "execution_count": 9,
   "id": "19cd8e11",
   "metadata": {},
   "outputs": [],
   "source": [
    "from abc import ABC, abstractmethod\n",
    "\n",
    "\n",
    "class Employee(ABC):\n",
    "    def __init__(self, first_name, last_name):\n",
    "        self.first_name = first_name\n",
    "        self.last_name = last_name\n",
    "\n",
    "    @property\n",
    "    def full_name(self):\n",
    "        return f\"{self.first_name} {self.last_name}\"\n",
    "\n",
    "    @abstractmethod\n",
    "    def get_salary(self):\n",
    "        pass"
   ]
  },
  {
   "cell_type": "code",
   "execution_count": 10,
   "id": "b9951b95",
   "metadata": {},
   "outputs": [],
   "source": [
    "class FulltimeEmployee(Employee):\n",
    "    def __init__(self, first_name, last_name, salary):\n",
    "        super().__init__(first_name, last_name)\n",
    "        self.salary = salary\n",
    "\n",
    "    def get_salary(self):\n",
    "        return self.salary"
   ]
  },
  {
   "cell_type": "code",
   "execution_count": 11,
   "id": "7a6c5e9a",
   "metadata": {},
   "outputs": [],
   "source": [
    "class HourlyEmployee(Employee):\n",
    "    def __init__(self, first_name, last_name, worked_hours, rate):\n",
    "        super().__init__(first_name, last_name)\n",
    "        self.worked_hours = worked_hours\n",
    "        self.rate = rate\n",
    "\n",
    "    def get_salary(self):\n",
    "        return self.worked_hours * self.rate"
   ]
  },
  {
   "cell_type": "code",
   "execution_count": 12,
   "id": "15f73f0c",
   "metadata": {},
   "outputs": [],
   "source": [
    "class Payroll:\n",
    "    def __init__(self):\n",
    "        self.employee_list = []\n",
    "\n",
    "    def add(self, employee):\n",
    "        self.employee_list.append(employee)\n",
    "\n",
    "    def print(self):\n",
    "        for e in self.employee_list:\n",
    "            print(f\"{e.full_name} \\t ${e.get_salary()}\")"
   ]
  },
  {
   "cell_type": "code",
   "execution_count": 15,
   "id": "d1bbdcb7",
   "metadata": {},
   "outputs": [
    {
     "name": "stdout",
     "output_type": "stream",
     "text": [
      "Shailendra Sharma \t $6000\n"
     ]
    }
   ],
   "source": [
    "payroll = Payroll()\n",
    "\n",
    "payroll.add(FulltimeEmployee('Shailendra', 'Sharma', 6000))\n",
    "\n",
    "payroll.print()"
   ]
  },
  {
   "cell_type": "code",
   "execution_count": null,
   "id": "0abb47ca",
   "metadata": {},
   "outputs": [],
   "source": []
  }
 ],
 "metadata": {
  "kernelspec": {
   "display_name": "Python 3",
   "language": "python",
   "name": "python3"
  },
  "language_info": {
   "codemirror_mode": {
    "name": "ipython",
    "version": 3
   },
   "file_extension": ".py",
   "mimetype": "text/x-python",
   "name": "python",
   "nbconvert_exporter": "python",
   "pygments_lexer": "ipython3",
   "version": "3.8.8"
  }
 },
 "nbformat": 4,
 "nbformat_minor": 5
}
