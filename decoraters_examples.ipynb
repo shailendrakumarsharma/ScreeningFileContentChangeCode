{
 "cells": [
  {
   "cell_type": "code",
   "execution_count": 15,
   "id": "ebd0d839",
   "metadata": {},
   "outputs": [
    {
     "name": "stdout",
     "output_type": "stream",
     "text": [
      "Hello\n"
     ]
    }
   ],
   "source": [
    "def hello():  \n",
    "    def hi():  \n",
    "        print(\"Hello\")  \n",
    "    return hi  \n",
    "new = hello()  \n",
    "new()   "
   ]
  },
  {
   "cell_type": "code",
   "execution_count": 20,
   "id": "4b3cd249",
   "metadata": {},
   "outputs": [
    {
     "name": "stdout",
     "output_type": "stream",
     "text": [
      "2.0\n"
     ]
    }
   ],
   "source": [
    "def divide(x,y):  \n",
    "    print(x/y)  \n",
    "def outer_div(func):  \n",
    "    def inner(x,y):  \n",
    "        if(x<y):  \n",
    "          x,y = y,x  \n",
    "          return func(x,y)  \n",
    "    return inner  \n",
    "divide1 = outer_div(divide)  \n",
    "divide1(2,4)  "
   ]
  },
  {
   "cell_type": "code",
   "execution_count": null,
   "id": "3bea6306",
   "metadata": {},
   "outputs": [],
   "source": [
    "Use of decoraters: This helps in extending the fucntionality of any fucntion without chaning the actual fucntion behaviour. \n",
    "    To do that this provide the funciotnality to pass function as argument to another fucntion and extend the functionality there."
   ]
  }
 ],
 "metadata": {
  "kernelspec": {
   "display_name": "Python 3",
   "language": "python",
   "name": "python3"
  },
  "language_info": {
   "codemirror_mode": {
    "name": "ipython",
    "version": 3
   },
   "file_extension": ".py",
   "mimetype": "text/x-python",
   "name": "python",
   "nbconvert_exporter": "python",
   "pygments_lexer": "ipython3",
   "version": "3.8.8"
  }
 },
 "nbformat": 4,
 "nbformat_minor": 5
}
